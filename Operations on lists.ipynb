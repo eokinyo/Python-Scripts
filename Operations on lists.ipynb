{
 "cells": [
  {
   "cell_type": "code",
   "execution_count": null,
   "metadata": {},
   "outputs": [],
   "source": [
    "my_list = [8, 10, 6, 2, 4]\n",
    "new_list = my_list[1:3] #This will slice the second and third values on my_list\n",
    "print(new_list)\n",
    "print(my_list)"
   ]
  },
  {
   "cell_type": "code",
   "execution_count": null,
   "metadata": {},
   "outputs": [],
   "source": [
    "my_list = [8, 10, 6, 2, 4]\n",
    "new_list = my_list[1:-1] #This will slice the second value all through to the second last value on my_list\n",
    "print(new_list)"
   ]
  },
  {
   "cell_type": "code",
   "execution_count": null,
   "metadata": {},
   "outputs": [],
   "source": [
    "my_list = [8, 10, 6, 2, 4]\n",
    "new_list = my_list[:3] #This will slice the first three values on my_list\n",
    "print(new_list)"
   ]
  },
  {
   "cell_type": "code",
   "execution_count": null,
   "metadata": {},
   "outputs": [],
   "source": [
    "my_list = [8, 10, 6, 2, 4]\n",
    "new_list = my_list[3:] #This will slice all the values on my_list that fall beyond the third position\n",
    "print(new_list)"
   ]
  },
  {
   "cell_type": "code",
   "execution_count": null,
   "metadata": {},
   "outputs": [],
   "source": [
    "my_list = [8, 10, 6, 2, 4]\n",
    "new_list = my_list[:] # This will copy the entire list\n",
    "\n",
    "print(new_list)\n",
    "del my_list[1:3] #Deletes the specified elements(that is, second and third elements in this case)\n",
    "print(my_list)\n",
    "del my_list[:] # Deletes all the elements of the list\n",
    "print(my_list)"
   ]
  },
  {
   "cell_type": "markdown",
   "metadata": {},
   "source": [
    "# The \"in\" and \"not\" in operators"
   ]
  },
  {
   "cell_type": "code",
   "execution_count": null,
   "metadata": {},
   "outputs": [],
   "source": [
    "lst = [0, 3, 12, 44, 34, 98]\n",
    "\n",
    "print(5 in lst) #Checks if there is a 5 on my list. If not, it prints false\n",
    "print(5 not in lst) # This checks if 5 is not on the list\n",
    "print(12 in lst)"
   ]
  },
  {
   "cell_type": "markdown",
   "metadata": {},
   "source": [
    "# Some simple programs for lists"
   ]
  },
  {
   "cell_type": "code",
   "execution_count": null,
   "metadata": {},
   "outputs": [],
   "source": [
    "my_new_list = []\n",
    "for i in range(20):\n",
    "    my_new_list.append(i + 1)\n",
    "\n",
    "largest = my_new_list[0]\n",
    "\n",
    "for i in range(1, len(my_new_list)):\n",
    "    if my_new_list[i] > largest:\n",
    "        largest = my_new_list[i]\n",
    "\n",
    "print(largest)"
   ]
  },
  {
   "cell_type": "code",
   "execution_count": null,
   "metadata": {},
   "outputs": [],
   "source": [
    "# An alternative, using slices would be\n",
    "\n",
    "new_list = []\n",
    "for i in range(31):\n",
    "    new_list.append(i + 1)\n",
    "\n",
    "largest = new_list[0]\n",
    "\n",
    "for i in new_list[1:]:\n",
    "    if i > largest:\n",
    "        largest = i\n",
    "\n",
    "print(largest)"
   ]
  },
  {
   "cell_type": "code",
   "execution_count": 19,
   "metadata": {},
   "outputs": [
    {
     "name": "stdout",
     "output_type": "stream",
     "text": [
      "[1, 2, 3, 4, 5, 6, 7, 8, 9, 10, 11, 12, 13, 14, 15, 16, 17, 18, 19, 20, 21, 22, 23, 24, 25, 26, 27, 28, 29, 30, 31]\n",
      "Absent\n"
     ]
    }
   ],
   "source": [
    "new_lst = []\n",
    "for i in range(31):\n",
    "    new_lst.append(i + 1)\n",
    "print(new_lst)\n",
    "to_find = 50\n",
    "found = False\n",
    "\n",
    "for i in range(len(new_lst)):\n",
    "    found = new_lst[i] == to_find\n",
    "    if found:\n",
    "        break\n",
    "\n",
    "if found:\n",
    "    print(\"Element found at index: \", i)\n",
    "else:\n",
    "    print(\"Absent\")"
   ]
  },
  {
   "cell_type": "markdown",
   "metadata": {},
   "source": [
    "# Scenario\n",
    "Imagine a list ‒ not very long, not very complicated, just a simple list containing some integer numbers. Some of these numbers may be repeated, and this is the clue. We don't want any repetitions. We want them to be removed.\n",
    "\n",
    "Your task is to write a program which removes all the number repetitions from the list. The goal is to have a list in which all the numbers appear not more than once.\n",
    "\n",
    "Note: assume that the source list is hard-coded inside the code ‒ you don't have to enter it from the keyboard. Of course, you can improve the code and add a part that can carry out a conversation with the user and obtain all the data from her/him.\n",
    "\n",
    "Hint: we encourage you to create a new list as a temporary work area ‒ you don't need to update the list in situ.\n",
    "\n"
   ]
  },
  {
   "cell_type": "code",
   "execution_count": null,
   "metadata": {},
   "outputs": [],
   "source": [
    "my_list = [1, 2, 4, 4, 1, 4, 2, 6, 2, 9]\n",
    "#\n",
    "# Write your code here.\n",
    "#\n",
    "print(\"The list with unique elements only:\")\n",
    "print(my_list)"
   ]
  }
 ],
 "metadata": {
  "kernelspec": {
   "display_name": "Python 3",
   "language": "python",
   "name": "python3"
  },
  "language_info": {
   "codemirror_mode": {
    "name": "ipython",
    "version": 3
   },
   "file_extension": ".py",
   "mimetype": "text/x-python",
   "name": "python",
   "nbconvert_exporter": "python",
   "pygments_lexer": "ipython3",
   "version": "3.12.0"
  }
 },
 "nbformat": 4,
 "nbformat_minor": 2
}
