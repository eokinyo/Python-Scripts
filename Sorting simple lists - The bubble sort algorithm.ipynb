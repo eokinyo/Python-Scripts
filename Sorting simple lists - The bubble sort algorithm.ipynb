{
 "cells": [
  {
   "cell_type": "code",
   "execution_count": 1,
   "metadata": {},
   "outputs": [
    {
     "name": "stdout",
     "output_type": "stream",
     "text": [
      "[8, 6, 2, 4, 10]\n"
     ]
    }
   ],
   "source": [
    "my_list = [8, 10, 6, 2, 4] # List to sort\n",
    "\n",
    "for i in range(len(my_list) - 1): # We need (5 - 1) comparisons\n",
    "    if my_list[i] > my_list[i + 1]: # Compare the adjacent elements\n",
    "        my_list[i], my_list[i + 1] = my_list[i + 1], my_list[i] #If we end up here, we have to swap the elements\n",
    "\n",
    "print(my_list)"
   ]
  },
  {
   "cell_type": "code",
   "execution_count": 2,
   "metadata": {},
   "outputs": [
    {
     "name": "stdout",
     "output_type": "stream",
     "text": [
      "[2, 4, 6, 8, 10]\n"
     ]
    }
   ],
   "source": [
    "my_list = [8, 10, 6, 2, 4] # The list to sort\n",
    "swapped = True \n",
    "\n",
    "while swapped:\n",
    "    swapped = False #No swap happens so far\n",
    "    for i in range(len(my_list) - 1):\n",
    "        if my_list[i] > my_list[i + 1]:\n",
    "            swapped = True # A swap will occur\n",
    "            my_list[i], my_list[i + 1] = my_list[i + 1], my_list[i]\n",
    "\n",
    "print(my_list)"
   ]
  },
  {
   "cell_type": "markdown",
   "metadata": {},
   "source": [
    "# The bubble sort - interactive version\n"
   ]
  },
  {
   "cell_type": "code",
   "execution_count": 3,
   "metadata": {},
   "outputs": [
    {
     "name": "stdout",
     "output_type": "stream",
     "text": [
      "\n",
      "Sorted: \n",
      "[2.0, 12.0, 12.0, 213.0, 232.0, 254.0, 254.0, 1245.0, 1555.0, 2445.0, 2885.0, 1542554.0]\n"
     ]
    }
   ],
   "source": [
    "list1 = []\n",
    "swapped = True\n",
    "num = int(input(\"How many elements do you want to sort?: \"))\n",
    "\n",
    "for i in range(num):\n",
    "    val = float(input(\"Enter a list element: \"))\n",
    "    list1.append(val)\n",
    "\n",
    "while swapped:\n",
    "    swapped = False\n",
    "    for i in range(len(list1) - 1):\n",
    "        if list1[i] > list1[i + 1]:\n",
    "            swapped = True\n",
    "            list1[i], list1[i + 1] = list1[i + 1], list1[i]\n",
    "\n",
    "print(\"\\nSorted: \")\n",
    "print(list1)"
   ]
  },
  {
   "cell_type": "code",
   "execution_count": 5,
   "metadata": {},
   "outputs": [
    {
     "name": "stdout",
     "output_type": "stream",
     "text": [
      "[2, 4, 6, 8, 10]\n",
      "[10, 8, 6, 4, 2]\n"
     ]
    }
   ],
   "source": [
    "# An easier way of getting python to sort the list\n",
    "my_lists = [8, 10, 6, 2, 4]\n",
    "my_lists.sort()\n",
    "print(my_lists)\n",
    "\n",
    "# To change the order of arrangement of the list, we use the 'Reverse' method\n",
    "my_lists.reverse()\n",
    "print(my_lists)"
   ]
  }
 ],
 "metadata": {
  "kernelspec": {
   "display_name": "Python 3",
   "language": "python",
   "name": "python3"
  },
  "language_info": {
   "codemirror_mode": {
    "name": "ipython",
    "version": 3
   },
   "file_extension": ".py",
   "mimetype": "text/x-python",
   "name": "python",
   "nbconvert_exporter": "python",
   "pygments_lexer": "ipython3",
   "version": "3.12.0"
  }
 },
 "nbformat": 4,
 "nbformat_minor": 2
}
