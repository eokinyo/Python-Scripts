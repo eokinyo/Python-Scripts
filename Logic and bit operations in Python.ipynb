{
 "cells": [
  {
   "cell_type": "markdown",
   "metadata": {},
   "source": [
    "# Logical Expressions"
   ]
  },
  {
   "cell_type": "code",
   "execution_count": null,
   "metadata": {},
   "outputs": [],
   "source": [
    "var = 1\n",
    "print(var > 0)\n",
    "print(not(var <= 0))\n",
    "\n",
    "print(var != 0)\n",
    "print(not(var == 0))"
   ]
  },
  {
   "cell_type": "markdown",
   "metadata": {},
   "source": [
    "# Logical values vs single bits"
   ]
  },
  {
   "cell_type": "code",
   "execution_count": 4,
   "metadata": {},
   "outputs": [
    {
     "name": "stdout",
     "output_type": "stream",
     "text": [
      "True\n"
     ]
    }
   ],
   "source": [
    "i = 1\n",
    "j = not not i\n",
    "print(j == i)"
   ]
  },
  {
   "cell_type": "markdown",
   "metadata": {},
   "source": [
    "# Bitwise operators\n",
    "& (ampersand) ‒ bitwise conjunction;\n",
    "| (bar) ‒ bitwise disjunction;\n",
    "~ (tilde) ‒ bitwise negation;\n",
    "^ (caret) ‒ bitwise exclusive or (xor).\n",
    "\n",
    "& requires exactly two 1s to provide 1 as the result;\n",
    "| requires at least one 1 to provide 1 as the result;\n",
    "^ requires exactly one 1 to provide 1 as the result."
   ]
  },
  {
   "cell_type": "markdown",
   "metadata": {},
   "source": [
    "# Binary left shift and binary right shift"
   ]
  },
  {
   "cell_type": "code",
   "execution_count": 5,
   "metadata": {},
   "outputs": [
    {
     "name": "stdout",
     "output_type": "stream",
     "text": [
      "17 68 8\n"
     ]
    }
   ],
   "source": [
    "var = 17\n",
    "var_right = var >>1\n",
    "var_left = var <<2\n",
    "print(var, var_left, var_right)"
   ]
  }
 ],
 "metadata": {
  "kernelspec": {
   "display_name": "Python 3",
   "language": "python",
   "name": "python3"
  },
  "language_info": {
   "codemirror_mode": {
    "name": "ipython",
    "version": 3
   },
   "file_extension": ".py",
   "mimetype": "text/x-python",
   "name": "python",
   "nbconvert_exporter": "python",
   "pygments_lexer": "ipython3",
   "version": "3.12.0"
  }
 },
 "nbformat": 4,
 "nbformat_minor": 2
}
