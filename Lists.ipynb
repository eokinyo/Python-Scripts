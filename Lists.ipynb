{
 "cells": [
  {
   "cell_type": "markdown",
   "metadata": {},
   "source": [
    "# Why do we need lists?\n",
    "To make working with a group of numbers easier."
   ]
  },
  {
   "cell_type": "code",
   "execution_count": null,
   "metadata": {},
   "outputs": [],
   "source": [
    "# Let's assign five numbers to a variable called 'numbers'\n",
    "numbers = [10, 5, 7, 2, 1]\n",
    "print(numbers)"
   ]
  },
  {
   "cell_type": "markdown",
   "metadata": {},
   "source": [
    "# Indexing lists\n",
    "This helps us to change the value of a chosen element on the list"
   ]
  },
  {
   "cell_type": "code",
   "execution_count": null,
   "metadata": {},
   "outputs": [],
   "source": [
    "numbers = [10, 5, 7, 2, 1]\n",
    "print(\"Original list contents: \", numbers)\n",
    "numbers[0] = 111 #Assigning 111 to the first value on the list. This will over-write the value currently on the first spot.\n",
    "print(\"New list contents: \", numbers)"
   ]
  },
  {
   "cell_type": "code",
   "execution_count": null,
   "metadata": {},
   "outputs": [],
   "source": [
    "numbers = [10, 5, 7, 2, 1]\n",
    "print(\"Original list contents:\", numbers)  # Printing original list contents.\n",
    "\n",
    "numbers[0] = 111\n",
    "print(\"\\nPrevious list contents:\", numbers)  # Printing previous list contents.\n",
    "\n",
    "numbers[1] = numbers[4]  # Copying value of the fifth element to the second.\n",
    "print(\"New list contents:\", numbers)  # Printing current list contents.\n",
    "\n"
   ]
  },
  {
   "cell_type": "markdown",
   "metadata": {},
   "source": [
    "# Accessing list contents"
   ]
  },
  {
   "cell_type": "code",
   "execution_count": null,
   "metadata": {},
   "outputs": [],
   "source": [
    "print(numbers[0])\n",
    "print(\"\\nList length: \", len(numbers)) #To print the length of the list"
   ]
  },
  {
   "cell_type": "markdown",
   "metadata": {},
   "source": [
    "# Removing elements from a list"
   ]
  },
  {
   "cell_type": "code",
   "execution_count": null,
   "metadata": {},
   "outputs": [],
   "source": [
    "del numbers[1]\n",
    "print(len(numbers))\n",
    "print(numbers)"
   ]
  },
  {
   "cell_type": "markdown",
   "metadata": {},
   "source": [
    "# Negative indices are legal\n",
    "An element with an index equal to -1 is the last one in the list. The element with the index -2 is the second last on the list"
   ]
  },
  {
   "cell_type": "code",
   "execution_count": null,
   "metadata": {},
   "outputs": [],
   "source": [
    "print(numbers)\n",
    "print(numbers[-1])\n",
    "print(numbers[-2])"
   ]
  },
  {
   "cell_type": "markdown",
   "metadata": {},
   "source": [
    "# Scenario\n",
    "There is a hat that contains five numbers: 1, 2, 3, 4 and 5.\n",
    "Tasks:\n",
    "- write a line of code that prompts the user to replace the middle number in the list with an integer number entered by the user(step 1)\n",
    "- write a line of code that removes the last element from the list(step 2)\n",
    "- write a line of code that prints the length of the existing list(step 3)"
   ]
  },
  {
   "cell_type": "code",
   "execution_count": null,
   "metadata": {},
   "outputs": [],
   "source": [
    "hat_list = [1, 2, 3, 4, 5]\n",
    "hat_list[2] = int(input(\"Enter the new middle number of the list: \"))\n",
    "print(hat_list)\n",
    "del hat_list[-1]\n",
    "print(len(hat_list))"
   ]
  },
  {
   "cell_type": "markdown",
   "metadata": {},
   "source": [
    "# Functions vs Methods\n",
    "A function doesn't belong to any data - it gets data, it may create new data and it (generally) produces a result\n",
    "A method does all these(what a function does), but is also able to change the state of a selected entity.\n",
    "A method is owned by the data it works for, while a function is owned by the whole code."
   ]
  },
  {
   "cell_type": "markdown",
   "metadata": {},
   "source": [
    "# Adding elements to a list: append() and insert()\n",
    "list.append(value)\n",
    "list.insert(location, value)"
   ]
  },
  {
   "cell_type": "code",
   "execution_count": null,
   "metadata": {},
   "outputs": [],
   "source": [
    "print(numbers)\n",
    "print(len(numbers))\n",
    "\n",
    "numbers.append(4)\n",
    "print(numbers)\n",
    "print(len(numbers))\n",
    "\n",
    "numbers.insert(0, 222)\n",
    "numbers.insert(1, 333)\n",
    "print(numbers)\n",
    "print(len(numbers))"
   ]
  },
  {
   "cell_type": "code",
   "execution_count": null,
   "metadata": {},
   "outputs": [],
   "source": [
    "my_list = []\n",
    "for i in range(5):\n",
    "    my_list.append(i + 1)\n",
    "\n",
    "print(my_list)"
   ]
  },
  {
   "cell_type": "code",
   "execution_count": null,
   "metadata": {},
   "outputs": [],
   "source": [
    "new_list = []\n",
    "for i in range(25):\n",
    "    new_list.insert(0, i+1)\n",
    "\n",
    "print(new_list)"
   ]
  },
  {
   "cell_type": "markdown",
   "metadata": {},
   "source": [
    "# Making use of lists"
   ]
  },
  {
   "cell_type": "code",
   "execution_count": null,
   "metadata": {},
   "outputs": [],
   "source": [
    "my_new_list = []\n",
    "total = 0\n",
    "for i in range(20):\n",
    "    my_new_list.append(i + 1)\n",
    "\n",
    "print(my_new_list)\n",
    "\n",
    "for i in range(len(my_new_list)):\n",
    "    total += my_new_list[i]\n",
    "print(total)"
   ]
  },
  {
   "cell_type": "markdown",
   "metadata": {},
   "source": [
    "# Lists in action\n",
    "We have two variables, var1 & var2 which are equal to 1 & 2 respectively. How can we swap the values of the two variables?"
   ]
  },
  {
   "cell_type": "code",
   "execution_count": null,
   "metadata": {},
   "outputs": [],
   "source": [
    "var1 = 1\n",
    "var2 = 2\n",
    "print(\"var1 = \", var1, \"and var2 = \", var2)\n",
    "\n",
    "# To swap the values\n",
    "var1, var2 = var2, var1\n",
    "print(\"The new value of var1 is \", var1, \"and the new value of var2 is \", var2)\n",
    "\n",
    "# To swap the values in a list:\n",
    "list1 = []\n",
    "for i in range(12):\n",
    "    list1.append(i**2)\n",
    "\n",
    "print(\"The initial list1 is: \", list1)\n",
    "\n",
    "list1[0], list1[5] = list1[5], list1[0]\n",
    "print(\"The new list1 is: \", list1)"
   ]
  },
  {
   "cell_type": "code",
   "execution_count": null,
   "metadata": {},
   "outputs": [],
   "source": [
    "list2 = []\n",
    "\n",
    "for i in range(13):\n",
    "    list2.append(i**2)\n",
    "print(list2)\n",
    "length = len(list2)\n",
    "for i in range(length // 2):\n",
    "    list2[i], list2[length - i - 1] = list2[length - i - 1], list2[i]\n",
    "print(list2)\n"
   ]
  },
  {
   "cell_type": "markdown",
   "metadata": {},
   "source": [
    "# Scenario\n",
    "step 1: create an empty list named beatles;\n",
    "step 2: use the append() method to add the following members of the band to the list: John Lennon, Paul McCartney, and George Harrison;\n",
    "step 3: use the for loop and the append() method to prompt the user to add the following members of the band to the list: Stu Sutcliffe, and Pete Best;\n",
    "step 4: use the del instruction to remove Stu Sutcliffe and Pete Best from the list;\n",
    "step 5: use the insert() method to add Ringo Starr to the beginning of the list."
   ]
  },
  {
   "cell_type": "code",
   "execution_count": null,
   "metadata": {},
   "outputs": [],
   "source": [
    "# Step 1: Create an empty list named beatles\n",
    "beatles = []\n",
    "\n",
    "# Step 2: Add members using append() method\n",
    "beatles.append(\"John Lennon\")\n",
    "beatles.append(\"Paul McCartney\")\n",
    "beatles.append(\"George Harrison\")\n",
    "\n",
    "# Step 3: Prompt user to add members using for loop and append() method\n",
    "additional_members = [\"Stu Sutcliffe\", \"Pete Best\"]\n",
    "for member in additional_members:\n",
    "    user_input = input(f\"Would you like to add {member} to the list? (yes/no): \")\n",
    "    if user_input.lower() == 'yes':\n",
    "        beatles.append(member)\n",
    "\n",
    "# Step 4: Remove Stu Sutcliffe and Pete Best using del instruction\n",
    "del beatles[3:]  # Assuming Stu Sutcliffe is at index 3 and Pete Best is at index 4 after the user input\n",
    "\n",
    "# Step 5: Add Ringo Starr to the beginning of the list using insert() method\n",
    "beatles.insert(0, \"Ringo Starr\")\n",
    "\n",
    "# Display the updated list\n",
    "print(\"Updated Beatles list:\", beatles)\n"
   ]
  }
 ],
 "metadata": {
  "kernelspec": {
   "display_name": "Python 3",
   "language": "python",
   "name": "python3"
  },
  "language_info": {
   "codemirror_mode": {
    "name": "ipython",
    "version": 3
   },
   "file_extension": ".py",
   "mimetype": "text/x-python",
   "name": "python",
   "nbconvert_exporter": "python",
   "pygments_lexer": "ipython3",
   "version": "3.12.0"
  }
 },
 "nbformat": 4,
 "nbformat_minor": 2
}
